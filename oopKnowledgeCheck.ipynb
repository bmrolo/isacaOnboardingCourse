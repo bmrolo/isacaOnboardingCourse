{
 "cells": [
  {
   "cell_type": "code",
   "execution_count": 1,
   "metadata": {},
   "outputs": [],
   "source": [
    "# Making the class\n",
    "\n",
    "class menuItem:\n",
    "    def __init__(self, foodItem, price):\n",
    "        self.foodItem = foodItem\n",
    "        self.price = price"
   ]
  },
  {
   "cell_type": "code",
   "execution_count": 2,
   "metadata": {},
   "outputs": [],
   "source": [
    "# Making the objects\n",
    "\n",
    "ca = menuItem(\"Chicken Alfredo\", 30)\n",
    "swm = menuItem(\"Spaghetti with Meatballs\", 20)\n",
    "bz = menuItem(\"Baked Ziti\", 25)\n",
    "cc = menuItem(\"Chicken Carbonara\", 15)"
   ]
  },
  {
   "cell_type": "code",
   "execution_count": 3,
   "metadata": {},
   "outputs": [
    {
     "name": "stdout",
     "output_type": "stream",
     "text": [
      "1. Chicken Carbonara\n",
      "2. Spaghetti with Meatballs\n",
      "3. Baked Ziti\n",
      "4. Chicken Carbonara\n"
     ]
    }
   ],
   "source": [
    "# Output\n",
    "print(\"1. \" + cc.foodItem)\n",
    "print(\"2. \" + swm.foodItem)\n",
    "print(\"3. \" + bz.foodItem)\n",
    "print(\"4. \" + cc.foodItem)"
   ]
  }
 ],
 "metadata": {
  "kernelspec": {
   "display_name": "Python 3",
   "language": "python",
   "name": "python3"
  },
  "language_info": {
   "codemirror_mode": {
    "name": "ipython",
    "version": 3
   },
   "file_extension": ".py",
   "mimetype": "text/x-python",
   "name": "python",
   "nbconvert_exporter": "python",
   "pygments_lexer": "ipython3",
   "version": "3.12.1"
  }
 },
 "nbformat": 4,
 "nbformat_minor": 2
}
